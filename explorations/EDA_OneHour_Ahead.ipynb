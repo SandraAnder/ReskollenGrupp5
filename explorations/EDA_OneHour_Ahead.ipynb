{
 "cells": [
  {
   "cell_type": "code",
   "execution_count": null,
   "metadata": {},
   "outputs": [],
   "source": [
    "from dotenv import load_dotenv\n",
    "import os \n",
    "import requests\n",
    "\n",
    "load_dotenv()\n",
    "\n",
    "API_KEY = os.getenv(\"API_KEY\")\n",
    "\n",
    "\n",
    "location = \"göteborg\"\n",
    "url = f\"https://api.resrobot.se/v2.1/location.name?input={location}&format=json&accessId={API_KEY}\"\n",
    "\n",
    "\n",
    "response = requests.get(url)\n",
    "result = response.json()\n",
    "result.keys()"
   ]
  },
  {
   "cell_type": "code",
   "execution_count": null,
   "metadata": {},
   "outputs": [],
   "source": [
    "result[\"stopLocationOrCoordLocation\"]"
   ]
  },
  {
   "cell_type": "code",
   "execution_count": null,
   "metadata": {},
   "outputs": [],
   "source": [
    "stop_locations = result [\"stopLocationOrCoordLocation\"]\n",
    "len (stop_locations)"
   ]
  },
  {
   "cell_type": "code",
   "execution_count": null,
   "metadata": {},
   "outputs": [],
   "source": [
    "stop_locations[0]"
   ]
  },
  {
   "cell_type": "code",
   "execution_count": null,
   "metadata": {},
   "outputs": [],
   "source": [
    "stop_locations[0][\"StopLocation\"].keys()"
   ]
  },
  {
   "cell_type": "code",
   "execution_count": 46,
   "metadata": {},
   "outputs": [
    {
     "name": "stdout",
     "output_type": "stream",
     "text": [
      "Stop                                               extId\n",
      "GÖTEBORG                                           740098001\n",
      "Göteborg Centralstation                            740000002\n",
      "Göteborg Sävenäs lokstation                        740016365\n",
      "GÖTEBORG GAMLESTADEN                               740098526\n",
      "Göteborg Korsvägen                                 740015578\n",
      "Göteborg Kungsportsplatsen                         740016358\n",
      "Göteborg Stenpiren                                 740072430\n",
      "Göteborg Eketrägatan                               740025624\n",
      "Göteborg Vårväderstorget                           740025707\n",
      "Göteborg Axel Dahlströms torg                      740025608\n"
     ]
    }
   ],
   "source": [
    "print(f\"{'Stop': <50} extId\")\n",
    "for stop_location in stop_locations:\n",
    "    stop = stop_location[\"StopLocation\"]\n",
    "    print(f'{stop [\"name\"]:<50} {stop [\"extId\"]}')"
   ]
  },
  {
   "cell_type": "markdown",
   "metadata": {},
   "source": [
    "# Göteborg Kungsportsplatsen  "
   ]
  },
  {
   "cell_type": "code",
   "execution_count": null,
   "metadata": {},
   "outputs": [],
   "source": [
    "import requests\n",
    "import pandas as pd\n",
    "from datetime import datetime, timedelta\n",
    "\n",
    "\n",
    "\n",
    "def get_departures_around_one_hour_ahead(stop_id, API_KEY):\n",
    "    # API-url\n",
    "    url = f\"https://api.resrobot.se/v2.1/departureBoard?id={stop_id}&format=json&accessId={API_KEY}\"\n",
    "\n",
    "    # Hämta data från API\n",
    "    response = requests.get(url)\n",
    "    if response.status_code != 200:\n",
    "        print(f\"Error in API call for stop_id {stop_id}: {response.status_code}\")\n",
    "        return None\n",
    "\n",
    "    # Ladda responsen\n",
    "    data = response.json()\n",
    "    departures = data.get(\"Departure\", [])\n",
    "\n",
    "    # Omvandla till DataFrame\n",
    "    df = pd.DataFrame(departures)\n",
    "\n",
    "    # Kontrollera att nödvändiga kolumner finns\n",
    "    required_columns = {\"name\", \"stop\", \"direction\", \"date\", \"time\"}\n",
    "    if not required_columns.issubset(df.columns):\n",
    "        print(f\"Required columns are missing for stop_id{stop_id}.\")\n",
    "        return None\n",
    "\n",
    "    # Omvandla \"date\" och \"time\" till datetime\n",
    "    df[\"datetime\"] = pd.to_datetime(df[\"date\"] + \" \" + df[\"time\"], errors='coerce')\n",
    "\n",
    "    # Kontrollera om omvandlingen lyckades\n",
    "    if df[\"datetime\"].isnull().any():\n",
    "        print(\"There are incorrect dates or times.\")\n",
    "        return None\n",
    "\n",
    "    # Hämta tid exakt en timme framåt\n",
    "    now = datetime.now()\n",
    "    one_hour_ahead = now + timedelta(hours=1)\n",
    "\n",
    "    # Definiera tidsintervall ±15 minuter\n",
    "    lower_bound = one_hour_ahead - timedelta(minutes=15)\n",
    "    upper_bound = one_hour_ahead + timedelta(minutes=15)\n",
    "\n",
    "    # Filtrera avgångar som sker inom ±5 minuter från en timme framåt\n",
    "    df_filtered = df[(df[\"datetime\"] >= lower_bound) & (df[\"datetime\"] <= upper_bound)].copy()\n",
    "\n",
    "    # Lägg till stop_id i resultatet om DataFrame inte är tom\n",
    "    if not df_filtered.empty:\n",
    "        df_filtered[\"stop_id\"] = stop_id\n",
    "        return df_filtered[[\"name\", \"stop\", \"direction\", \"datetime\", \"stop_id\"]]\n",
    "    else:\n",
    "        print(f\"No departures within ±5 minutes from one hour ahead for stop_id {stop_id}.\")\n",
    "        return None  # Returnera None om DataFrame är tom\n",
    "\n",
    "# Hämta avgångar för stop_id\n",
    "stop_id = 740016358  \n",
    "\n",
    "API_KEY = os.getenv(\"API_KEY\")\n",
    "\n",
    "df_one_hour_ahead = get_departures_around_one_hour_ahead(stop_id, API_KEY)\n",
    "\n",
    "# Visa resultatet\n",
    "if df_one_hour_ahead is not None and not df_one_hour_ahead.empty:\n",
    "    print(f\"No departures within ±15 minutes from one hour ahead for stop_id {stop_id}:\")\n",
    "    print(df_one_hour_ahead)\n",
    "else:\n",
    "    print(\"No departures within ±15 minutes from one hour onwards.\")"
   ]
  },
  {
   "cell_type": "code",
   "execution_count": null,
   "metadata": {},
   "outputs": [],
   "source": [
    "df_one_hour_ahead[[\"name\", \"stop\", \"direction\",\"datetime\",\"stop_id\"]]"
   ]
  },
  {
   "cell_type": "markdown",
   "metadata": {},
   "source": [
    "# Göteborg Gamlestaden "
   ]
  },
  {
   "cell_type": "code",
   "execution_count": null,
   "metadata": {},
   "outputs": [],
   "source": [
    "# Hämta avgångar för stop_id\n",
    "stop_id = 740098526 \n",
    "\n",
    "API_KEY = os.getenv(\"API_KEY\")\n",
    "\n",
    "df_one_hour_ahead = get_departures_around_one_hour_ahead(stop_id, API_KEY)\n",
    "\n",
    "# Visa resultatet\n",
    "if df_one_hour_ahead is not None and not df_one_hour_ahead.empty:\n",
    "    print(f\"No departures within ±15 minutes from one hour ahead for stop_id  {stop_id}:\")\n",
    "    print(df_one_hour_ahead)\n",
    "else:\n",
    "    print(\"No departures within ±15 minutes from one hour onwards.\")"
   ]
  },
  {
   "cell_type": "code",
   "execution_count": null,
   "metadata": {},
   "outputs": [],
   "source": [
    "df_one_hour_ahead[[\"name\", \"stop\", \"direction\",\"datetime\",\"stop_id\"]]"
   ]
  },
  {
   "cell_type": "markdown",
   "metadata": {},
   "source": [
    "# Göteborg Korsvägen"
   ]
  },
  {
   "cell_type": "code",
   "execution_count": null,
   "metadata": {},
   "outputs": [],
   "source": [
    "# Hämta avgångar för stop_id\n",
    "stop_id = 740015578 \n",
    "\n",
    "API_KEY = os.getenv(\"API_KEY\")\n",
    "\n",
    "df_one_hour_ahead = get_departures_around_one_hour_ahead(stop_id, API_KEY)\n",
    "\n",
    "# Visa resultatet\n",
    "if df_one_hour_ahead is not None and not df_one_hour_ahead.empty:\n",
    "    print(f\"No departures within ±15 minutes from one hour ahead for stop_id  {stop_id}:\")\n",
    "    print(df_one_hour_ahead)\n",
    "else:\n",
    "    print(\"No departures within ±15 minutes from one hour onwards.\")"
   ]
  },
  {
   "cell_type": "code",
   "execution_count": null,
   "metadata": {},
   "outputs": [],
   "source": [
    "df_one_hour_ahead[[\"name\", \"stop\", \"direction\",\"datetime\",\"stop_id\"]]"
   ]
  }
 ],
 "metadata": {
  "kernelspec": {
   "display_name": ".venv",
   "language": "python",
   "name": "python3"
  },
  "language_info": {
   "name": "python",
   "version": "3.12.6"
  }
 },
 "nbformat": 4,
 "nbformat_minor": 2
}
