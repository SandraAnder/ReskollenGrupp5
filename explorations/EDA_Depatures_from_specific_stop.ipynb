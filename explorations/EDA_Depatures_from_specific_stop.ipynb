{
 "cells": [
  {
   "cell_type": "code",
   "execution_count": 13,
   "metadata": {},
   "outputs": [],
   "source": [
    "from dotenv import load_dotenv\n",
    "import os\n",
    "import requests"
   ]
  },
  {
   "cell_type": "code",
   "execution_count": 18,
   "metadata": {},
   "outputs": [],
   "source": [
    "API_KEY = os.getenv(\"API_KEY\")"
   ]
  },
  {
   "cell_type": "code",
   "execution_count": 19,
   "metadata": {},
   "outputs": [],
   "source": [
    "depature_url = f\"https://api.resrobot.se/v2.1/location.name?input=Göteborg&format=json&accessId={API_KEY}\""
   ]
  },
  {
   "cell_type": "code",
   "execution_count": 21,
   "metadata": {},
   "outputs": [
    {
     "name": "stdout",
     "output_type": "stream",
     "text": [
      "{'stopLocationOrCoordLocation': [{'StopLocation': {'productAtStop': [{'icon': {'res': 'prod_gen'}, 'cls': '2'}, {'icon': {'res': 'prod_gen'}, 'cls': '4'}, {'icon': {'res': 'prod_gen'}, 'cls': '8'}, {'icon': {'res': 'prod_gen'}, 'cls': '16'}, {'icon': {'res': 'prod_gen'}, 'cls': '64'}, {'icon': {'res': 'prod_gen'}, 'cls': '128'}, {'icon': {'res': 'prod_gen'}, 'cls': '256'}], 'timezoneOffset': 60, 'id': 'A=1@O=GÖTEBORG@X=11973479@Y=57708895@U=1@L=740098001@B=1@p=1737261405@', 'extId': '740098001', 'name': 'GÖTEBORG', 'lon': 11.973479, 'lat': 57.708895, 'weight': 15625, 'products': 222, 'meta': True, 'minimumChangeDuration': 'PT26M'}}, {'StopLocation': {'productAtStop': [{'icon': {'res': 'prod_gen'}, 'cls': '2'}, {'icon': {'res': 'prod_gen'}, 'cls': '4'}, {'icon': {'res': 'prod_gen'}, 'cls': '8'}, {'icon': {'res': 'prod_gen'}, 'cls': '16'}, {'icon': {'res': 'prod_gen'}, 'cls': '64'}, {'icon': {'res': 'prod_gen'}, 'cls': '128'}], 'timezoneOffset': 60, 'id': 'A=1@O=Göteborg Centralstation@X=11973479@Y=57708895@U=1@L=740000002@B=1@p=1737261405@', 'extId': '740000002', 'name': 'Göteborg Centralstation', 'lon': 11.973479, 'lat': 57.708895, 'weight': 9815, 'products': 222, 'minimumChangeDuration': 'PT15M'}}, {'StopLocation': {'productAtStop': [{'icon': {'res': 'prod_gen'}, 'cls': '128'}], 'timezoneOffset': 60, 'id': 'A=1@O=Göteborg Sävenäs lokstation@X=12021077@Y=57725993@U=1@L=740016365@B=1@p=1737261405@', 'extId': '740016365', 'name': 'Göteborg Sävenäs lokstation', 'lon': 12.021077, 'lat': 57.725993, 'weight': 115, 'products': 128, 'minimumChangeDuration': 'PT5M'}}, {'StopLocation': {'productAtStop': [{'icon': {'res': 'prod_gen'}, 'cls': '16'}, {'icon': {'res': 'prod_gen'}, 'cls': '64'}, {'icon': {'res': 'prod_gen'}, 'cls': '128'}], 'timezoneOffset': 60, 'id': 'A=1@O=GÖTEBORG GAMLESTADEN@X=12004411@Y=57729148@U=1@L=740098526@B=1@p=1737261405@', 'extId': '740098526', 'name': 'GÖTEBORG GAMLESTADEN', 'lon': 12.004411, 'lat': 57.729148, 'weight': 7867, 'products': 80, 'meta': True, 'minimumChangeDuration': 'PT26M'}}, {'StopLocation': {'productAtStop': [{'icon': {'res': 'prod_gen'}, 'cls': '8'}, {'icon': {'res': 'prod_gen'}, 'cls': '64'}, {'icon': {'res': 'prod_gen'}, 'cls': '128'}], 'timezoneOffset': 60, 'id': 'A=1@O=Göteborg Korsvägen@X=11986918@Y=57696742@U=1@L=740015578@B=1@p=1737261405@', 'extId': '740015578', 'name': 'Göteborg Korsvägen', 'lon': 11.986918, 'lat': 57.696742, 'weight': 5833, 'products': 200, 'minimumChangeDuration': 'PT5M'}}, {'StopLocation': {'productAtStop': [{'icon': {'res': 'prod_gen'}, 'cls': '8'}, {'icon': {'res': 'prod_gen'}, 'cls': '64'}, {'icon': {'res': 'prod_gen'}, 'cls': '128'}], 'timezoneOffset': 60, 'id': 'A=1@O=Göteborg Kungsportsplatsen@X=11969748@Y=57704023@U=1@L=740016358@B=1@p=1737261405@', 'extId': '740016358', 'name': 'Göteborg Kungsportsplatsen', 'lon': 11.969748, 'lat': 57.704023, 'weight': 5833, 'products': 200, 'minimumChangeDuration': 'PT5M'}}, {'StopLocation': {'productAtStop': [{'icon': {'res': 'prod_gen'}, 'cls': '64'}, {'icon': {'res': 'prod_gen'}, 'cls': '128'}, {'icon': {'res': 'prod_gen'}, 'cls': '256'}], 'timezoneOffset': 60, 'id': 'A=1@O=Göteborg Stenpiren@X=11957424@Y=57705803@U=1@L=740072430@B=1@p=1737261405@', 'extId': '740072430', 'name': 'Göteborg Stenpiren', 'lon': 11.957424, 'lat': 57.705803, 'weight': 4764, 'products': 448, 'minimumChangeDuration': 'PT5M'}}, {'StopLocation': {'productAtStop': [{'icon': {'res': 'prod_gen'}, 'cls': '64'}, {'icon': {'res': 'prod_gen'}, 'cls': '128'}, {'icon': {'res': 'prod_gen'}, 'cls': '512'}], 'timezoneOffset': 60, 'id': 'A=1@O=Göteborg Eketrägatan@X=11910285@Y=57716275@U=1@L=740025624@B=1@p=1737261405@', 'extId': '740025624', 'name': 'Göteborg Eketrägatan', 'lon': 11.910285, 'lat': 57.716275, 'weight': 4633, 'products': 704, 'minimumChangeDuration': 'PT5M'}}, {'StopLocation': {'productAtStop': [{'icon': {'res': 'prod_gen'}, 'cls': '64'}, {'icon': {'res': 'prod_gen'}, 'cls': '128'}, {'icon': {'res': 'prod_gen'}, 'cls': '512'}], 'timezoneOffset': 60, 'id': 'A=1@O=Göteborg Vårväderstorget@X=11893097@Y=57713084@U=1@L=740025707@B=1@p=1737261405@', 'extId': '740025707', 'name': 'Göteborg Vårväderstorget', 'lon': 11.893097, 'lat': 57.713084, 'weight': 4633, 'products': 704, 'minimumChangeDuration': 'PT3M'}}, {'StopLocation': {'productAtStop': [{'icon': {'res': 'prod_gen'}, 'cls': '64'}, {'icon': {'res': 'prod_gen'}, 'cls': '128'}], 'timezoneOffset': 60, 'id': 'A=1@O=Göteborg Axel Dahlströms torg@X=11927445@Y=57672435@U=1@L=740025608@B=1@p=1737261405@', 'extId': '740025608', 'name': 'Göteborg Axel Dahlströms torg', 'lon': 11.927445, 'lat': 57.672435, 'weight': 4608, 'products': 192, 'minimumChangeDuration': 'PT3M'}}], 'TechnicalMessages': {'TechnicalMessage': [{'value': '2025-01-19 18:51:35', 'key': 'requestTime'}, {'value': 'ttp=16439#16603 plancode0=0ltrj planid=1737261405 planid0=1737261405 planid_adr=1479298166 plancode_adr=q0r10 srvv=5.45.SAMTRAFIKEN.15.0.1 (customer/hcusamtrafiken/release/2023.10.0) [2023-10-19] tlibv=TRFVER: rel/pproxy/4.00.0 2022-10-24 18:24:51 +0200 Relay_EnrichmentProxy v1 jno=1', 'key': 'backendInfo'}]}, 'serverVersion': '2.45.1', 'dialectVersion': '2.45', 'requestId': 't5wwuzmwmexnhmcs'}\n"
     ]
    }
   ],
   "source": [
    "respone = requests.get(depature_url)\n",
    "result = respone.json()\n",
    "print(result)"
   ]
  },
  {
   "cell_type": "code",
   "execution_count": 24,
   "metadata": {},
   "outputs": [
    {
     "name": "stdout",
     "output_type": "stream",
     "text": [
      "[{'StopLocation': {'productAtStop': [{'icon': {'res': 'prod_gen'}, 'cls': '2'}, {'icon': {'res': 'prod_gen'}, 'cls': '4'}, {'icon': {'res': 'prod_gen'}, 'cls': '8'}, {'icon': {'res': 'prod_gen'}, 'cls': '16'}, {'icon': {'res': 'prod_gen'}, 'cls': '64'}, {'icon': {'res': 'prod_gen'}, 'cls': '128'}, {'icon': {'res': 'prod_gen'}, 'cls': '256'}], 'timezoneOffset': 60, 'id': 'A=1@O=GÖTEBORG@X=11973479@Y=57708895@U=1@L=740098001@B=1@p=1737261405@', 'extId': '740098001', 'name': 'GÖTEBORG', 'lon': 11.973479, 'lat': 57.708895, 'weight': 15625, 'products': 222, 'meta': True, 'minimumChangeDuration': 'PT26M'}}, {'StopLocation': {'productAtStop': [{'icon': {'res': 'prod_gen'}, 'cls': '2'}, {'icon': {'res': 'prod_gen'}, 'cls': '4'}, {'icon': {'res': 'prod_gen'}, 'cls': '8'}, {'icon': {'res': 'prod_gen'}, 'cls': '16'}, {'icon': {'res': 'prod_gen'}, 'cls': '64'}, {'icon': {'res': 'prod_gen'}, 'cls': '128'}], 'timezoneOffset': 60, 'id': 'A=1@O=Göteborg Centralstation@X=11973479@Y=57708895@U=1@L=740000002@B=1@p=1737261405@', 'extId': '740000002', 'name': 'Göteborg Centralstation', 'lon': 11.973479, 'lat': 57.708895, 'weight': 9815, 'products': 222, 'minimumChangeDuration': 'PT15M'}}, {'StopLocation': {'productAtStop': [{'icon': {'res': 'prod_gen'}, 'cls': '128'}], 'timezoneOffset': 60, 'id': 'A=1@O=Göteborg Sävenäs lokstation@X=12021077@Y=57725993@U=1@L=740016365@B=1@p=1737261405@', 'extId': '740016365', 'name': 'Göteborg Sävenäs lokstation', 'lon': 12.021077, 'lat': 57.725993, 'weight': 115, 'products': 128, 'minimumChangeDuration': 'PT5M'}}, {'StopLocation': {'productAtStop': [{'icon': {'res': 'prod_gen'}, 'cls': '16'}, {'icon': {'res': 'prod_gen'}, 'cls': '64'}, {'icon': {'res': 'prod_gen'}, 'cls': '128'}], 'timezoneOffset': 60, 'id': 'A=1@O=GÖTEBORG GAMLESTADEN@X=12004411@Y=57729148@U=1@L=740098526@B=1@p=1737261405@', 'extId': '740098526', 'name': 'GÖTEBORG GAMLESTADEN', 'lon': 12.004411, 'lat': 57.729148, 'weight': 7867, 'products': 80, 'meta': True, 'minimumChangeDuration': 'PT26M'}}, {'StopLocation': {'productAtStop': [{'icon': {'res': 'prod_gen'}, 'cls': '8'}, {'icon': {'res': 'prod_gen'}, 'cls': '64'}, {'icon': {'res': 'prod_gen'}, 'cls': '128'}], 'timezoneOffset': 60, 'id': 'A=1@O=Göteborg Korsvägen@X=11986918@Y=57696742@U=1@L=740015578@B=1@p=1737261405@', 'extId': '740015578', 'name': 'Göteborg Korsvägen', 'lon': 11.986918, 'lat': 57.696742, 'weight': 5833, 'products': 200, 'minimumChangeDuration': 'PT5M'}}, {'StopLocation': {'productAtStop': [{'icon': {'res': 'prod_gen'}, 'cls': '8'}, {'icon': {'res': 'prod_gen'}, 'cls': '64'}, {'icon': {'res': 'prod_gen'}, 'cls': '128'}], 'timezoneOffset': 60, 'id': 'A=1@O=Göteborg Kungsportsplatsen@X=11969748@Y=57704023@U=1@L=740016358@B=1@p=1737261405@', 'extId': '740016358', 'name': 'Göteborg Kungsportsplatsen', 'lon': 11.969748, 'lat': 57.704023, 'weight': 5833, 'products': 200, 'minimumChangeDuration': 'PT5M'}}, {'StopLocation': {'productAtStop': [{'icon': {'res': 'prod_gen'}, 'cls': '64'}, {'icon': {'res': 'prod_gen'}, 'cls': '128'}, {'icon': {'res': 'prod_gen'}, 'cls': '256'}], 'timezoneOffset': 60, 'id': 'A=1@O=Göteborg Stenpiren@X=11957424@Y=57705803@U=1@L=740072430@B=1@p=1737261405@', 'extId': '740072430', 'name': 'Göteborg Stenpiren', 'lon': 11.957424, 'lat': 57.705803, 'weight': 4764, 'products': 448, 'minimumChangeDuration': 'PT5M'}}, {'StopLocation': {'productAtStop': [{'icon': {'res': 'prod_gen'}, 'cls': '64'}, {'icon': {'res': 'prod_gen'}, 'cls': '128'}, {'icon': {'res': 'prod_gen'}, 'cls': '512'}], 'timezoneOffset': 60, 'id': 'A=1@O=Göteborg Eketrägatan@X=11910285@Y=57716275@U=1@L=740025624@B=1@p=1737261405@', 'extId': '740025624', 'name': 'Göteborg Eketrägatan', 'lon': 11.910285, 'lat': 57.716275, 'weight': 4633, 'products': 704, 'minimumChangeDuration': 'PT5M'}}, {'StopLocation': {'productAtStop': [{'icon': {'res': 'prod_gen'}, 'cls': '64'}, {'icon': {'res': 'prod_gen'}, 'cls': '128'}, {'icon': {'res': 'prod_gen'}, 'cls': '512'}], 'timezoneOffset': 60, 'id': 'A=1@O=Göteborg Vårväderstorget@X=11893097@Y=57713084@U=1@L=740025707@B=1@p=1737261405@', 'extId': '740025707', 'name': 'Göteborg Vårväderstorget', 'lon': 11.893097, 'lat': 57.713084, 'weight': 4633, 'products': 704, 'minimumChangeDuration': 'PT3M'}}, {'StopLocation': {'productAtStop': [{'icon': {'res': 'prod_gen'}, 'cls': '64'}, {'icon': {'res': 'prod_gen'}, 'cls': '128'}], 'timezoneOffset': 60, 'id': 'A=1@O=Göteborg Axel Dahlströms torg@X=11927445@Y=57672435@U=1@L=740025608@B=1@p=1737261405@', 'extId': '740025608', 'name': 'Göteborg Axel Dahlströms torg', 'lon': 11.927445, 'lat': 57.672435, 'weight': 4608, 'products': 192, 'minimumChangeDuration': 'PT3M'}}]\n"
     ]
    }
   ],
   "source": [
    "print(result[\"stopLocationOrCoordLocation\"])"
   ]
  }
 ],
 "metadata": {
  "kernelspec": {
   "display_name": ".venv",
   "language": "python",
   "name": "python3"
  },
  "language_info": {
   "codemirror_mode": {
    "name": "ipython",
    "version": 3
   },
   "file_extension": ".py",
   "mimetype": "text/x-python",
   "name": "python",
   "nbconvert_exporter": "python",
   "pygments_lexer": "ipython3",
   "version": "3.11.7"
  }
 },
 "nbformat": 4,
 "nbformat_minor": 2
}
