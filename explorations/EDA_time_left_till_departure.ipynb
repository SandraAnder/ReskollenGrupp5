{
 "cells": [
  {
   "cell_type": "markdown",
   "metadata": {},
   "source": [
    "# EDA & time left till departure"
   ]
  },
  {
   "cell_type": "code",
   "execution_count": 83,
   "metadata": {},
   "outputs": [
    {
     "data": {
      "text/plain": [
       "dict_keys(['Trip', 'ResultStatus', 'TechnicalMessages', 'serverVersion', 'dialectVersion', 'planRtTs', 'requestId', 'scrB', 'scrF'])"
      ]
     },
     "execution_count": 83,
     "metadata": {},
     "output_type": "execute_result"
    }
   ],
   "source": [
    "from dotenv import load_dotenv\n",
    "import os\n",
    "import requests\n",
    "\n",
    "load_dotenv()\n",
    "\n",
    "API_KEY = os.getenv(\"API_KEY\")\n",
    "\n",
    "url_trip = f\"https://api.resrobot.se/v2.1/trip?format=json&originId=740000002&destId=740000003&passlist=true&showPassingPoints=true&accessId={API_KEY}\"\n",
    "\n",
    "url_departureBoard = f\"https://api.resrobot.se/v2.1/departureBoard?id=740000002&format=json&accessId={API_KEY}\"\n",
    "\n",
    "url_location = f\"https://api.resrobot.se/v2.1/location.name?input=Göteborg&format=json&accessId={API_KEY}\"\n",
    "\n",
    "url_arrivalBoard = f\"https://api.resrobot.se/v2.1/arrivalBoard?id=740000002&format=json&accessId={API_KEY}\"\n",
    "\n",
    "response = requests.get(url_trip)\n",
    "result = response.json()\n",
    "result.keys()"
   ]
  },
  {
   "cell_type": "code",
   "execution_count": 84,
   "metadata": {},
   "outputs": [
    {
     "data": {
      "text/plain": [
       "5"
      ]
     },
     "execution_count": 84,
     "metadata": {},
     "output_type": "execute_result"
    }
   ],
   "source": [
    "len(result[\"Trip\"])"
   ]
  },
  {
   "cell_type": "code",
   "execution_count": 85,
   "metadata": {},
   "outputs": [
    {
     "data": {
      "text/plain": [
       "dict_keys(['Origin', 'Destination', 'ServiceDays', 'LegList', 'calculation', 'TripStatus', 'idx', 'tripId', 'ctxRecon', 'duration', 'rtDuration', 'checksum', 'transferCount'])"
      ]
     },
     "execution_count": 85,
     "metadata": {},
     "output_type": "execute_result"
    }
   ],
   "source": [
    "example_trip = result[\"Trip\"][0]\n",
    "example_trip.keys()"
   ]
  },
  {
   "cell_type": "code",
   "execution_count": 86,
   "metadata": {},
   "outputs": [
    {
     "data": {
      "text/plain": [
       "{'name': 'Göteborg Centralstation',\n",
       " 'type': 'ST',\n",
       " 'id': 'A=1@O=Göteborg Centralstation@X=11973479@Y=57708895@U=1@L=740000002@',\n",
       " 'extId': '740000002',\n",
       " 'lon': 11.973479,\n",
       " 'lat': 57.708895,\n",
       " 'routeIdx': 0,\n",
       " 'prognosisType': 'PROGNOSED',\n",
       " 'time': '21:40:00',\n",
       " 'date': '2025-01-21',\n",
       " 'minimumChangeDuration': 'PT15M'}"
      ]
     },
     "execution_count": 86,
     "metadata": {},
     "output_type": "execute_result"
    }
   ],
   "source": [
    "example_trip[\"Origin\"]"
   ]
  },
  {
   "cell_type": "code",
   "execution_count": 87,
   "metadata": {},
   "outputs": [
    {
     "data": {
      "text/plain": [
       "{'name': 'Malmö Centralstation',\n",
       " 'type': 'ST',\n",
       " 'id': 'A=1@O=Malmö Centralstation@X=13000910@Y=55609456@U=1@L=740000003@',\n",
       " 'extId': '740000003',\n",
       " 'lon': 13.00091,\n",
       " 'lat': 55.609456,\n",
       " 'routeIdx': 11,\n",
       " 'prognosisType': 'PROGNOSED',\n",
       " 'time': '05:39:00',\n",
       " 'date': '2025-01-22',\n",
       " 'minimumChangeDuration': 'PT15M'}"
      ]
     },
     "execution_count": 87,
     "metadata": {},
     "output_type": "execute_result"
    }
   ],
   "source": [
    "example_trip[\"Destination\"]"
   ]
  },
  {
   "cell_type": "code",
   "execution_count": 88,
   "metadata": {},
   "outputs": [
    {
     "data": {
      "text/plain": [
       "{'hintCode': 455}"
      ]
     },
     "execution_count": 88,
     "metadata": {},
     "output_type": "execute_result"
    }
   ],
   "source": [
    "example_trip[\"TripStatus\"]"
   ]
  },
  {
   "cell_type": "code",
   "execution_count": 89,
   "metadata": {},
   "outputs": [
    {
     "data": {
      "text/plain": [
       "[{'planningPeriodBegin': '2025-01-02',\n",
       "  'planningPeriodEnd': '2025-06-15',\n",
       "  'sDaysR': 'inte varje dag',\n",
       "  'sDaysI': '21. jan t o m 4. jun 2025 tis - tor, sön; utom 18. feb, 25., 26. mar, 13. t o m 20. apr 2025, 29., 30. apr, 13., 28. maj; och 27. jan, 3., 10., 24. feb, 3., 10., 17. mar, 7. apr, 5., 19., 26. maj, 2. jun',\n",
       "  'sDaysB': '00007CF9F3E4CF9F3E7C8973E003913E4CF9D3C000'}]"
      ]
     },
     "execution_count": 89,
     "metadata": {},
     "output_type": "execute_result"
    }
   ],
   "source": [
    "example_trip[\"ServiceDays\"]"
   ]
  },
  {
   "cell_type": "code",
   "execution_count": 90,
   "metadata": {},
   "outputs": [
    {
     "data": {
      "text/plain": [
       "dict_keys(['Leg'])"
      ]
     },
     "execution_count": 90,
     "metadata": {},
     "output_type": "execute_result"
    }
   ],
   "source": [
    "example_trip[\"LegList\"].keys()"
   ]
  },
  {
   "cell_type": "code",
   "execution_count": 91,
   "metadata": {},
   "outputs": [
    {
     "data": {
      "text/plain": [
       "2"
      ]
     },
     "execution_count": 91,
     "metadata": {},
     "output_type": "execute_result"
    }
   ],
   "source": [
    "len(example_trip[\"LegList\"][\"Leg\"])"
   ]
  },
  {
   "cell_type": "code",
   "execution_count": 92,
   "metadata": {},
   "outputs": [
    {
     "data": {
      "text/plain": [
       "dict_keys(['Origin', 'Destination', 'Notes', 'JourneyDetailRef', 'JourneyStatus', 'Product', 'Stops', 'JourneyDetail', 'id', 'idx', 'name', 'number', 'category', 'type', 'reachable', 'waitingState', 'direction', 'directionFlag', 'duration', 'minimumChangeDuration'])"
      ]
     },
     "execution_count": 92,
     "metadata": {},
     "output_type": "execute_result"
    }
   ],
   "source": [
    "example_trip[\"LegList\"][\"Leg\"][0].keys()"
   ]
  },
  {
   "cell_type": "code",
   "execution_count": 93,
   "metadata": {},
   "outputs": [
    {
     "data": {
      "text/plain": [
       "[{'name': 'Göteborg Centralstation',\n",
       "  'id': 'A=1@O=Göteborg Centralstation@X=11973479@Y=57708895@U=1@L=740000002@',\n",
       "  'extId': '740000002',\n",
       "  'routeIdx': 0,\n",
       "  'lon': 11.973479,\n",
       "  'lat': 57.708895,\n",
       "  'depPrognosisType': 'PROGNOSED',\n",
       "  'depTime': '21:40:00',\n",
       "  'depDate': '2025-01-21',\n",
       "  'depDir': 'Helsingborg Centralstation',\n",
       "  'minimumChangeDuration': 'PT15M'},\n",
       " {'name': 'Mölndal station',\n",
       "  'id': 'A=1@O=Mölndal station@X=12018722@Y=57655958@U=1@L=740000315@',\n",
       "  'extId': '740000315',\n",
       "  'routeIdx': 1,\n",
       "  'lon': 12.018722,\n",
       "  'lat': 57.655958,\n",
       "  'depTime': '21:48:00',\n",
       "  'depDate': '2025-01-21',\n",
       "  'arrTime': '21:48:00',\n",
       "  'arrDate': '2025-01-21',\n",
       "  'minimumChangeDuration': 'PT9M'},\n",
       " {'name': 'Kungsbacka station',\n",
       "  'id': 'A=1@O=Kungsbacka station@X=12079614@Y=57490556@U=1@L=740000161@',\n",
       "  'extId': '740000161',\n",
       "  'routeIdx': 2,\n",
       "  'lon': 12.079614,\n",
       "  'lat': 57.490556,\n",
       "  'depTime': '21:59:00',\n",
       "  'depDate': '2025-01-21',\n",
       "  'arrTime': '21:59:00',\n",
       "  'arrDate': '2025-01-21',\n",
       "  'minimumChangeDuration': 'PT5M'},\n",
       " {'name': 'Åsa station (Kungsbacka kn)',\n",
       "  'id': 'A=1@O=Åsa station (Kungsbacka kn)@X=12135635@Y=57363116@U=1@L=740001604@',\n",
       "  'extId': '740001604',\n",
       "  'routeIdx': 3,\n",
       "  'lon': 12.135635,\n",
       "  'lat': 57.363116,\n",
       "  'depTime': '22:08:00',\n",
       "  'depDate': '2025-01-21',\n",
       "  'arrTime': '22:08:00',\n",
       "  'arrDate': '2025-01-21',\n",
       "  'minimumChangeDuration': 'PT5M'},\n",
       " {'name': 'Varberg station',\n",
       "  'id': 'A=1@O=Varberg station@X=12248081@Y=57109378@U=1@L=740000110@',\n",
       "  'extId': '740000110',\n",
       "  'routeIdx': 4,\n",
       "  'lon': 12.248081,\n",
       "  'lat': 57.109378,\n",
       "  'depTime': '22:29:00',\n",
       "  'depDate': '2025-01-21',\n",
       "  'arrTime': '22:27:00',\n",
       "  'arrDate': '2025-01-21',\n",
       "  'minimumChangeDuration': 'PT5M'},\n",
       " {'name': 'Falkenberg station',\n",
       "  'id': 'A=1@O=Falkenberg station@X=12507555@Y=56919768@U=1@L=740001579@',\n",
       "  'extId': '740001579',\n",
       "  'routeIdx': 5,\n",
       "  'lon': 12.507555,\n",
       "  'lat': 56.919768,\n",
       "  'depTime': '22:45:00',\n",
       "  'depDate': '2025-01-21',\n",
       "  'arrTime': '22:45:00',\n",
       "  'arrDate': '2025-01-21',\n",
       "  'minimumChangeDuration': 'PT4M'},\n",
       " {'name': 'Halmstad Centralstation',\n",
       "  'id': 'A=1@O=Halmstad Centralstation@X=12864840@Y=56669275@U=1@L=740000080@',\n",
       "  'extId': '740000080',\n",
       "  'routeIdx': 6,\n",
       "  'lon': 12.86484,\n",
       "  'lat': 56.669275,\n",
       "  'depTime': '23:13:00',\n",
       "  'depDate': '2025-01-21',\n",
       "  'arrTime': '23:03:00',\n",
       "  'arrDate': '2025-01-21',\n",
       "  'minimumChangeDuration': 'PT10M'},\n",
       " {'name': 'Laholm station',\n",
       "  'id': 'A=1@O=Laholm station@X=12999606@Y=56501905@U=1@L=740000058@',\n",
       "  'extId': '740000058',\n",
       "  'routeIdx': 7,\n",
       "  'lon': 12.999606,\n",
       "  'lat': 56.501905,\n",
       "  'depTime': '23:25:00',\n",
       "  'depDate': '2025-01-21',\n",
       "  'arrTime': '23:25:00',\n",
       "  'arrDate': '2025-01-21',\n",
       "  'minimumChangeDuration': 'PT9M'},\n",
       " {'name': 'Båstad station',\n",
       "  'id': 'A=1@O=Båstad station@X=12906991@Y=56431834@U=1@L=740001603@',\n",
       "  'extId': '740001603',\n",
       "  'routeIdx': 8,\n",
       "  'lon': 12.906991,\n",
       "  'lat': 56.431834,\n",
       "  'depTime': '23:32:00',\n",
       "  'depDate': '2025-01-21',\n",
       "  'arrTime': '23:32:00',\n",
       "  'arrDate': '2025-01-21',\n",
       "  'minimumChangeDuration': 'PT4M'},\n",
       " {'name': 'Ängelholm station',\n",
       "  'id': 'A=1@O=Ängelholm station@X=12854197@Y=56245200@U=1@L=740000064@',\n",
       "  'extId': '740000064',\n",
       "  'routeIdx': 9,\n",
       "  'lon': 12.854197,\n",
       "  'lat': 56.2452,\n",
       "  'depTime': '23:43:00',\n",
       "  'depDate': '2025-01-21',\n",
       "  'arrTime': '23:43:00',\n",
       "  'arrDate': '2025-01-21',\n",
       "  'minimumChangeDuration': 'PT10M'},\n",
       " {'name': 'Helsingborg Centralstation',\n",
       "  'id': 'A=1@O=Helsingborg Centralstation@X=12694261@Y=56044408@U=1@L=740000044@',\n",
       "  'extId': '740000044',\n",
       "  'routeIdx': 10,\n",
       "  'lon': 12.694261,\n",
       "  'lat': 56.044408,\n",
       "  'arrPrognosisType': 'PROGNOSED',\n",
       "  'arrTime': '00:00:00',\n",
       "  'arrDate': '2025-01-22',\n",
       "  'minimumChangeDuration': 'PT9M'}]"
      ]
     },
     "execution_count": 93,
     "metadata": {},
     "output_type": "execute_result"
    }
   ],
   "source": [
    "example_stops = example_trip[\"LegList\"][\"Leg\"][0][\"Stops\"][\"Stop\"]\n",
    "example_stops"
   ]
  },
  {
   "cell_type": "code",
   "execution_count": 94,
   "metadata": {},
   "outputs": [
    {
     "data": {
      "text/plain": [
       "[{'Göteborg Centralstation': None},\n",
       " {'Mölndal station': '21:48:00'},\n",
       " {'Kungsbacka station': '21:59:00'},\n",
       " {'Åsa station (Kungsbacka kn)': '22:08:00'},\n",
       " {'Varberg station': '22:27:00'},\n",
       " {'Falkenberg station': '22:45:00'},\n",
       " {'Halmstad Centralstation': '23:03:00'},\n",
       " {'Laholm station': '23:25:00'},\n",
       " {'Båstad station': '23:32:00'},\n",
       " {'Ängelholm station': '23:43:00'},\n",
       " {'Helsingborg Centralstation': '00:00:00'}]"
      ]
     },
     "execution_count": 94,
     "metadata": {},
     "output_type": "execute_result"
    }
   ],
   "source": [
    "[{stop.get(\"name\"): stop.get(\"arrTime\")} for stop in example_stops]"
   ]
  },
  {
   "cell_type": "code",
   "execution_count": 95,
   "metadata": {},
   "outputs": [
    {
     "data": {
      "text/plain": [
       "dict_keys(['stopLocationOrCoordLocation', 'TechnicalMessages', 'serverVersion', 'dialectVersion', 'requestId'])"
      ]
     },
     "execution_count": 95,
     "metadata": {},
     "output_type": "execute_result"
    }
   ],
   "source": [
    "response = requests.get(url_location)\n",
    "result = response.json()\n",
    "result.keys()"
   ]
  },
  {
   "cell_type": "code",
   "execution_count": 96,
   "metadata": {},
   "outputs": [
    {
     "data": {
      "text/plain": [
       "10"
      ]
     },
     "execution_count": 96,
     "metadata": {},
     "output_type": "execute_result"
    }
   ],
   "source": [
    "stop_locations = result[\"stopLocationOrCoordLocation\"]\n",
    "len(stop_locations)"
   ]
  },
  {
   "cell_type": "code",
   "execution_count": 97,
   "metadata": {},
   "outputs": [
    {
     "data": {
      "text/plain": [
       "{'StopLocation': {'productAtStop': [{'icon': {'res': 'prod_gen'}, 'cls': '2'},\n",
       "   {'icon': {'res': 'prod_gen'}, 'cls': '4'},\n",
       "   {'icon': {'res': 'prod_gen'}, 'cls': '8'},\n",
       "   {'icon': {'res': 'prod_gen'}, 'cls': '16'},\n",
       "   {'icon': {'res': 'prod_gen'}, 'cls': '64'},\n",
       "   {'icon': {'res': 'prod_gen'}, 'cls': '128'},\n",
       "   {'icon': {'res': 'prod_gen'}, 'cls': '256'}],\n",
       "  'timezoneOffset': 60,\n",
       "  'id': 'A=1@O=GÖTEBORG@X=11973479@Y=57708895@U=1@L=740098001@B=1@p=1737434182@',\n",
       "  'extId': '740098001',\n",
       "  'name': 'GÖTEBORG',\n",
       "  'lon': 11.973479,\n",
       "  'lat': 57.708895,\n",
       "  'weight': 15426,\n",
       "  'products': 222,\n",
       "  'meta': True,\n",
       "  'minimumChangeDuration': 'PT26M'}}"
      ]
     },
     "execution_count": 97,
     "metadata": {},
     "output_type": "execute_result"
    }
   ],
   "source": [
    "stop_locations[0]"
   ]
  },
  {
   "cell_type": "code",
   "execution_count": 98,
   "metadata": {},
   "outputs": [
    {
     "data": {
      "text/plain": [
       "dict_keys(['productAtStop', 'timezoneOffset', 'id', 'extId', 'name', 'lon', 'lat', 'weight', 'products', 'meta', 'minimumChangeDuration'])"
      ]
     },
     "execution_count": 98,
     "metadata": {},
     "output_type": "execute_result"
    }
   ],
   "source": [
    "stop_locations[0][\"StopLocation\"].keys()"
   ]
  },
  {
   "cell_type": "code",
   "execution_count": 99,
   "metadata": {},
   "outputs": [
    {
     "data": {
      "text/plain": [
       "'GÖTEBORG'"
      ]
     },
     "execution_count": 99,
     "metadata": {},
     "output_type": "execute_result"
    }
   ],
   "source": [
    "stop_locations[0][\"StopLocation\"][\"name\"]"
   ]
  },
  {
   "cell_type": "code",
   "execution_count": 100,
   "metadata": {},
   "outputs": [
    {
     "name": "stdout",
     "output_type": "stream",
     "text": [
      "Stop                                               extId\n",
      "GÖTEBORG                                           740098001\n",
      "Göteborg Centralstation                            740000002\n",
      "Göteborg Sävenäs lokstation                        740016365\n",
      "GÖTEBORG GAMLESTADEN                               740098526\n",
      "Göteborg Korsvägen                                 740015578\n",
      "Göteborg Kungsportsplatsen                         740016358\n",
      "Göteborg Stenpiren                                 740072430\n",
      "Göteborg Eketrägatan                               740025624\n",
      "Göteborg Vårväderstorget                           740025707\n",
      "Göteborg Axel Dahlströms torg                      740025608\n"
     ]
    }
   ],
   "source": [
    "print(f\"{'Stop':<50} {'extId'}\")\n",
    "for stop_location in stop_locations:\n",
    "    stop = stop_location[\"StopLocation\"]\n",
    "    print(f\"{stop.get('name'):<50} {stop.get('extId')}\")"
   ]
  },
  {
   "cell_type": "code",
   "execution_count": 101,
   "metadata": {},
   "outputs": [
    {
     "name": "stdout",
     "output_type": "stream",
     "text": [
      "Name                                               extId\n",
      "Malm (Gullspång kn)                                740062061\n",
      "Malmö Centralstation                               740000003\n",
      "Malmö Triangeln station                            740001587\n",
      "Malmö Hyllie station                               740001586\n",
      "Malmö Svågertorp station                           740001546\n",
      "MALMÖ                                              740098548\n",
      "Malmö Persborg station                             740001486\n",
      "Malmö Rosengård station                            740001621\n",
      "Malmö Östervärn station                            740001483\n",
      "Malmö Fosieby station                              740001553\n"
     ]
    }
   ],
   "source": [
    "def access_id_from_location(location):\n",
    "    url = f\"https://api.resrobot.se/v2.1/location.name?input={location}&format=json&accessId={API_KEY}\"\n",
    "\n",
    "    try:\n",
    "        response = requests.get(url)\n",
    "        result = response.json()\n",
    "\n",
    "        print(f\"{'Name':<50} extId\")\n",
    "\n",
    "        for stop in result.get(\"stopLocationOrCoordLocation\"):\n",
    "            stop_data = next(iter(stop.values()))\n",
    "\n",
    "            # returns None if extId doesn't exist\n",
    "            if stop_data.get(\"extId\"):\n",
    "                print(f\"{stop_data['name']:<50} {stop_data['extId']}\")\n",
    "\n",
    "    except requests.exceptions.RequestException as err:\n",
    "        print(f\"Network or HTTP error: {err}\")\n",
    "\n",
    "access_id_from_location(\"malm\")"
   ]
  },
  {
   "cell_type": "code",
   "execution_count": 102,
   "metadata": {},
   "outputs": [
    {
     "data": {
      "text/plain": [
       "dict_keys(['Departure', 'TechnicalMessages', 'serverVersion', 'dialectVersion', 'planRtTs', 'requestId'])"
      ]
     },
     "execution_count": 102,
     "metadata": {},
     "output_type": "execute_result"
    }
   ],
   "source": [
    "stop_id=740015578\n",
    "url = f\"https://api.resrobot.se/v2.1/departureBoard?id={stop_id}&format=json&accessId={API_KEY}\"\n",
    "\n",
    "response = requests.get(url)\n",
    "results = response.json()\n",
    "results.keys()"
   ]
  },
  {
   "cell_type": "code",
   "execution_count": 103,
   "metadata": {},
   "outputs": [
    {
     "data": {
      "text/html": [
       "<div>\n",
       "<style scoped>\n",
       "    .dataframe tbody tr th:only-of-type {\n",
       "        vertical-align: middle;\n",
       "    }\n",
       "\n",
       "    .dataframe tbody tr th {\n",
       "        vertical-align: top;\n",
       "    }\n",
       "\n",
       "    .dataframe thead th {\n",
       "        text-align: right;\n",
       "    }\n",
       "</style>\n",
       "<table border=\"1\" class=\"dataframe\">\n",
       "  <thead>\n",
       "    <tr style=\"text-align: right;\">\n",
       "      <th></th>\n",
       "      <th>JourneyDetailRef</th>\n",
       "      <th>JourneyStatus</th>\n",
       "      <th>ProductAtStop</th>\n",
       "      <th>Product</th>\n",
       "      <th>Notes</th>\n",
       "      <th>name</th>\n",
       "      <th>type</th>\n",
       "      <th>stop</th>\n",
       "      <th>stopid</th>\n",
       "      <th>stopExtId</th>\n",
       "      <th>lon</th>\n",
       "      <th>lat</th>\n",
       "      <th>time</th>\n",
       "      <th>date</th>\n",
       "      <th>reachable</th>\n",
       "      <th>direction</th>\n",
       "      <th>directionFlag</th>\n",
       "    </tr>\n",
       "  </thead>\n",
       "  <tbody>\n",
       "    <tr>\n",
       "      <th>0</th>\n",
       "      <td>{'ref': '1|112695|2|1|21012025'}</td>\n",
       "      <td>P</td>\n",
       "      <td>{'icon': {'res': 'prod_gen'}, 'operatorInfo': ...</td>\n",
       "      <td>[{'icon': {'res': 'prod_gen'}, 'operatorInfo':...</td>\n",
       "      <td>{'Note': [{'value': 'Lag 2015:953 tillämpas', ...</td>\n",
       "      <td>Länstrafik - Spårväg 2</td>\n",
       "      <td>ST</td>\n",
       "      <td>Göteborg Korsvägen</td>\n",
       "      <td>A=1@O=Göteborg Korsvägen@X=11986918@Y=57696742...</td>\n",
       "      <td>740015578</td>\n",
       "      <td>11.986918</td>\n",
       "      <td>57.696742</td>\n",
       "      <td>21:36:00</td>\n",
       "      <td>2025-01-21</td>\n",
       "      <td>True</td>\n",
       "      <td>Mölndals Innerstad</td>\n",
       "      <td>1</td>\n",
       "    </tr>\n",
       "    <tr>\n",
       "      <th>1</th>\n",
       "      <td>{'ref': '1|114352|3|1|21012025'}</td>\n",
       "      <td>P</td>\n",
       "      <td>{'icon': {'res': 'prod_gen'}, 'operatorInfo': ...</td>\n",
       "      <td>[{'icon': {'res': 'prod_gen'}, 'operatorInfo':...</td>\n",
       "      <td>{'Note': [{'value': 'Lag 2015:953 tillämpas', ...</td>\n",
       "      <td>Länstrafik - Buss 18</td>\n",
       "      <td>ST</td>\n",
       "      <td>Göteborg Korsvägen</td>\n",
       "      <td>A=1@O=Göteborg Korsvägen@X=11986918@Y=57696742...</td>\n",
       "      <td>740015578</td>\n",
       "      <td>11.986918</td>\n",
       "      <td>57.696742</td>\n",
       "      <td>21:37:00</td>\n",
       "      <td>2025-01-21</td>\n",
       "      <td>True</td>\n",
       "      <td>Kallebäck (Göteborg kn)</td>\n",
       "      <td>1</td>\n",
       "    </tr>\n",
       "    <tr>\n",
       "      <th>2</th>\n",
       "      <td>{'ref': '1|114463|1|1|21012025'}</td>\n",
       "      <td>P</td>\n",
       "      <td>{'icon': {'res': 'prod_gen'}, 'operatorInfo': ...</td>\n",
       "      <td>[{'icon': {'res': 'prod_gen'}, 'operatorInfo':...</td>\n",
       "      <td>{'Note': [{'value': 'Lag 2015:953 tillämpas', ...</td>\n",
       "      <td>Länstrafik - Buss 18</td>\n",
       "      <td>ST</td>\n",
       "      <td>Göteborg Korsvägen</td>\n",
       "      <td>A=1@O=Göteborg Korsvägen@X=11986918@Y=57696742...</td>\n",
       "      <td>740015578</td>\n",
       "      <td>11.986918</td>\n",
       "      <td>57.696742</td>\n",
       "      <td>21:37:00</td>\n",
       "      <td>2025-01-21</td>\n",
       "      <td>True</td>\n",
       "      <td>Körkarlens gata (Göteborg kn)</td>\n",
       "      <td>2</td>\n",
       "    </tr>\n",
       "    <tr>\n",
       "      <th>3</th>\n",
       "      <td>{'ref': '1|164957|0|1|21012025'}</td>\n",
       "      <td>P</td>\n",
       "      <td>{'icon': {'res': 'prod_gen'}, 'operatorInfo': ...</td>\n",
       "      <td>[{'icon': {'res': 'prod_gen'}, 'operatorInfo':...</td>\n",
       "      <td>{'Note': [{'value': 'Lag 2015:953 tillämpas', ...</td>\n",
       "      <td>Länstrafik - Spårväg 5</td>\n",
       "      <td>ST</td>\n",
       "      <td>Göteborg Korsvägen</td>\n",
       "      <td>A=1@O=Göteborg Korsvägen@X=11986918@Y=57696742...</td>\n",
       "      <td>740015578</td>\n",
       "      <td>11.986918</td>\n",
       "      <td>57.696742</td>\n",
       "      <td>21:37:00</td>\n",
       "      <td>2025-01-21</td>\n",
       "      <td>True</td>\n",
       "      <td>Göteborg Varmfrontsgatan</td>\n",
       "      <td>2</td>\n",
       "    </tr>\n",
       "    <tr>\n",
       "      <th>4</th>\n",
       "      <td>{'ref': '1|396|0|1|21012025'}</td>\n",
       "      <td>P</td>\n",
       "      <td>{'icon': {'res': 'prod_gen'}, 'operatorInfo': ...</td>\n",
       "      <td>[{'icon': {'res': 'prod_gen'}, 'operatorInfo':...</td>\n",
       "      <td>{'Note': [{'value': 'Lag 2015:953 tillämpas', ...</td>\n",
       "      <td>Länstrafik - Buss X4</td>\n",
       "      <td>ST</td>\n",
       "      <td>Göteborg Korsvägen</td>\n",
       "      <td>A=1@O=Göteborg Korsvägen@X=11986918@Y=57696742...</td>\n",
       "      <td>740015578</td>\n",
       "      <td>11.986918</td>\n",
       "      <td>57.696742</td>\n",
       "      <td>21:38:00</td>\n",
       "      <td>2025-01-21</td>\n",
       "      <td>True</td>\n",
       "      <td>Mölnlycke station (Härryda kn)</td>\n",
       "      <td>1</td>\n",
       "    </tr>\n",
       "  </tbody>\n",
       "</table>\n",
       "</div>"
      ],
      "text/plain": [
       "                   JourneyDetailRef JourneyStatus  \\\n",
       "0  {'ref': '1|112695|2|1|21012025'}             P   \n",
       "1  {'ref': '1|114352|3|1|21012025'}             P   \n",
       "2  {'ref': '1|114463|1|1|21012025'}             P   \n",
       "3  {'ref': '1|164957|0|1|21012025'}             P   \n",
       "4     {'ref': '1|396|0|1|21012025'}             P   \n",
       "\n",
       "                                       ProductAtStop  \\\n",
       "0  {'icon': {'res': 'prod_gen'}, 'operatorInfo': ...   \n",
       "1  {'icon': {'res': 'prod_gen'}, 'operatorInfo': ...   \n",
       "2  {'icon': {'res': 'prod_gen'}, 'operatorInfo': ...   \n",
       "3  {'icon': {'res': 'prod_gen'}, 'operatorInfo': ...   \n",
       "4  {'icon': {'res': 'prod_gen'}, 'operatorInfo': ...   \n",
       "\n",
       "                                             Product  \\\n",
       "0  [{'icon': {'res': 'prod_gen'}, 'operatorInfo':...   \n",
       "1  [{'icon': {'res': 'prod_gen'}, 'operatorInfo':...   \n",
       "2  [{'icon': {'res': 'prod_gen'}, 'operatorInfo':...   \n",
       "3  [{'icon': {'res': 'prod_gen'}, 'operatorInfo':...   \n",
       "4  [{'icon': {'res': 'prod_gen'}, 'operatorInfo':...   \n",
       "\n",
       "                                               Notes                    name  \\\n",
       "0  {'Note': [{'value': 'Lag 2015:953 tillämpas', ...  Länstrafik - Spårväg 2   \n",
       "1  {'Note': [{'value': 'Lag 2015:953 tillämpas', ...    Länstrafik - Buss 18   \n",
       "2  {'Note': [{'value': 'Lag 2015:953 tillämpas', ...    Länstrafik - Buss 18   \n",
       "3  {'Note': [{'value': 'Lag 2015:953 tillämpas', ...  Länstrafik - Spårväg 5   \n",
       "4  {'Note': [{'value': 'Lag 2015:953 tillämpas', ...    Länstrafik - Buss X4   \n",
       "\n",
       "  type                stop                                             stopid  \\\n",
       "0   ST  Göteborg Korsvägen  A=1@O=Göteborg Korsvägen@X=11986918@Y=57696742...   \n",
       "1   ST  Göteborg Korsvägen  A=1@O=Göteborg Korsvägen@X=11986918@Y=57696742...   \n",
       "2   ST  Göteborg Korsvägen  A=1@O=Göteborg Korsvägen@X=11986918@Y=57696742...   \n",
       "3   ST  Göteborg Korsvägen  A=1@O=Göteborg Korsvägen@X=11986918@Y=57696742...   \n",
       "4   ST  Göteborg Korsvägen  A=1@O=Göteborg Korsvägen@X=11986918@Y=57696742...   \n",
       "\n",
       "   stopExtId        lon        lat      time        date  reachable  \\\n",
       "0  740015578  11.986918  57.696742  21:36:00  2025-01-21       True   \n",
       "1  740015578  11.986918  57.696742  21:37:00  2025-01-21       True   \n",
       "2  740015578  11.986918  57.696742  21:37:00  2025-01-21       True   \n",
       "3  740015578  11.986918  57.696742  21:37:00  2025-01-21       True   \n",
       "4  740015578  11.986918  57.696742  21:38:00  2025-01-21       True   \n",
       "\n",
       "                        direction directionFlag  \n",
       "0              Mölndals Innerstad             1  \n",
       "1         Kallebäck (Göteborg kn)             1  \n",
       "2   Körkarlens gata (Göteborg kn)             2  \n",
       "3        Göteborg Varmfrontsgatan             2  \n",
       "4  Mölnlycke station (Härryda kn)             1  "
      ]
     },
     "execution_count": 103,
     "metadata": {},
     "output_type": "execute_result"
    }
   ],
   "source": [
    "import pandas as pd \n",
    "\n",
    "df_timetable = pd.DataFrame(results[\"Departure\"])\n",
    "df_timetable.head()"
   ]
  },
  {
   "cell_type": "code",
   "execution_count": 104,
   "metadata": {},
   "outputs": [
    {
     "name": "stderr",
     "output_type": "stream",
     "text": [
      "C:\\Users\\Sammy Guru\\AppData\\Local\\Temp\\ipykernel_17308\\2966623657.py:4: SettingWithCopyWarning: \n",
      "A value is trying to be set on a copy of a slice from a DataFrame.\n",
      "Try using .loc[row_indexer,col_indexer] = value instead\n",
      "\n",
      "See the caveats in the documentation: https://pandas.pydata.org/pandas-docs/stable/user_guide/indexing.html#returning-a-view-versus-a-copy\n",
      "  df_timetable_cleaned['departure_datetime'] = pd.to_datetime(df_timetable_cleaned['date'] + ' ' + df_timetable_cleaned['time'])\n",
      "C:\\Users\\Sammy Guru\\AppData\\Local\\Temp\\ipykernel_17308\\2966623657.py:6: SettingWithCopyWarning: \n",
      "A value is trying to be set on a copy of a slice from a DataFrame.\n",
      "Try using .loc[row_indexer,col_indexer] = value instead\n",
      "\n",
      "See the caveats in the documentation: https://pandas.pydata.org/pandas-docs/stable/user_guide/indexing.html#returning-a-view-versus-a-copy\n",
      "  df_timetable_cleaned['time_until_departure'] = df_timetable_cleaned['departure_datetime'] - current_time\n"
     ]
    },
    {
     "data": {
      "text/html": [
       "<div>\n",
       "<style scoped>\n",
       "    .dataframe tbody tr th:only-of-type {\n",
       "        vertical-align: middle;\n",
       "    }\n",
       "\n",
       "    .dataframe tbody tr th {\n",
       "        vertical-align: top;\n",
       "    }\n",
       "\n",
       "    .dataframe thead th {\n",
       "        text-align: right;\n",
       "    }\n",
       "</style>\n",
       "<table border=\"1\" class=\"dataframe\">\n",
       "  <thead>\n",
       "    <tr style=\"text-align: right;\">\n",
       "      <th></th>\n",
       "      <th>name</th>\n",
       "      <th>stop</th>\n",
       "      <th>direction</th>\n",
       "      <th>date</th>\n",
       "      <th>time</th>\n",
       "      <th>departure_datetime</th>\n",
       "      <th>time_until_departure</th>\n",
       "    </tr>\n",
       "  </thead>\n",
       "  <tbody>\n",
       "    <tr>\n",
       "      <th>0</th>\n",
       "      <td>Länstrafik - Spårväg 2</td>\n",
       "      <td>Göteborg Korsvägen</td>\n",
       "      <td>Mölndals Innerstad</td>\n",
       "      <td>2025-01-21</td>\n",
       "      <td>21:36:00</td>\n",
       "      <td>2025-01-21 21:36:00</td>\n",
       "      <td>-1 days +23:59:06.993045</td>\n",
       "    </tr>\n",
       "    <tr>\n",
       "      <th>1</th>\n",
       "      <td>Länstrafik - Buss 18</td>\n",
       "      <td>Göteborg Korsvägen</td>\n",
       "      <td>Kallebäck (Göteborg kn)</td>\n",
       "      <td>2025-01-21</td>\n",
       "      <td>21:37:00</td>\n",
       "      <td>2025-01-21 21:37:00</td>\n",
       "      <td>0 days 00:00:06.993045</td>\n",
       "    </tr>\n",
       "    <tr>\n",
       "      <th>2</th>\n",
       "      <td>Länstrafik - Buss 18</td>\n",
       "      <td>Göteborg Korsvägen</td>\n",
       "      <td>Körkarlens gata (Göteborg kn)</td>\n",
       "      <td>2025-01-21</td>\n",
       "      <td>21:37:00</td>\n",
       "      <td>2025-01-21 21:37:00</td>\n",
       "      <td>0 days 00:00:06.993045</td>\n",
       "    </tr>\n",
       "    <tr>\n",
       "      <th>3</th>\n",
       "      <td>Länstrafik - Spårväg 5</td>\n",
       "      <td>Göteborg Korsvägen</td>\n",
       "      <td>Göteborg Varmfrontsgatan</td>\n",
       "      <td>2025-01-21</td>\n",
       "      <td>21:37:00</td>\n",
       "      <td>2025-01-21 21:37:00</td>\n",
       "      <td>0 days 00:00:06.993045</td>\n",
       "    </tr>\n",
       "    <tr>\n",
       "      <th>4</th>\n",
       "      <td>Länstrafik - Buss X4</td>\n",
       "      <td>Göteborg Korsvägen</td>\n",
       "      <td>Mölnlycke station (Härryda kn)</td>\n",
       "      <td>2025-01-21</td>\n",
       "      <td>21:38:00</td>\n",
       "      <td>2025-01-21 21:38:00</td>\n",
       "      <td>0 days 00:01:06.993045</td>\n",
       "    </tr>\n",
       "    <tr>\n",
       "      <th>...</th>\n",
       "      <td>...</td>\n",
       "      <td>...</td>\n",
       "      <td>...</td>\n",
       "      <td>...</td>\n",
       "      <td>...</td>\n",
       "      <td>...</td>\n",
       "      <td>...</td>\n",
       "    </tr>\n",
       "    <tr>\n",
       "      <th>96</th>\n",
       "      <td>Länstrafik - Spårväg 8</td>\n",
       "      <td>Göteborg Korsvägen</td>\n",
       "      <td>Angered centrum (Göteborg kn)</td>\n",
       "      <td>2025-01-21</td>\n",
       "      <td>22:34:00</td>\n",
       "      <td>2025-01-21 22:34:00</td>\n",
       "      <td>0 days 00:57:06.993045</td>\n",
       "    </tr>\n",
       "    <tr>\n",
       "      <th>97</th>\n",
       "      <td>Länstrafik - Buss 18</td>\n",
       "      <td>Göteborg Korsvägen</td>\n",
       "      <td>Körkarlens gata (Göteborg kn)</td>\n",
       "      <td>2025-01-21</td>\n",
       "      <td>22:34:00</td>\n",
       "      <td>2025-01-21 22:34:00</td>\n",
       "      <td>0 days 00:57:06.993045</td>\n",
       "    </tr>\n",
       "    <tr>\n",
       "      <th>98</th>\n",
       "      <td>Länstrafik - Buss 61</td>\n",
       "      <td>Göteborg Korsvägen</td>\n",
       "      <td>Göteborg Heden</td>\n",
       "      <td>2025-01-21</td>\n",
       "      <td>22:35:00</td>\n",
       "      <td>2025-01-21 22:35:00</td>\n",
       "      <td>0 days 00:58:06.993045</td>\n",
       "    </tr>\n",
       "    <tr>\n",
       "      <th>99</th>\n",
       "      <td>Länstrafik - Spårväg 8</td>\n",
       "      <td>Göteborg Scandinavium</td>\n",
       "      <td>Angered centrum (Göteborg kn)</td>\n",
       "      <td>2025-01-21</td>\n",
       "      <td>22:35:00</td>\n",
       "      <td>2025-01-21 22:35:00</td>\n",
       "      <td>0 days 00:58:06.993045</td>\n",
       "    </tr>\n",
       "    <tr>\n",
       "      <th>100</th>\n",
       "      <td>Länstrafik - Buss 63</td>\n",
       "      <td>Göteborg Korsvägen</td>\n",
       "      <td>Göteborg Linnéplatsen</td>\n",
       "      <td>2025-01-21</td>\n",
       "      <td>22:35:00</td>\n",
       "      <td>2025-01-21 22:35:00</td>\n",
       "      <td>0 days 00:58:06.993045</td>\n",
       "    </tr>\n",
       "  </tbody>\n",
       "</table>\n",
       "<p>101 rows × 7 columns</p>\n",
       "</div>"
      ],
      "text/plain": [
       "                       name                   stop  \\\n",
       "0    Länstrafik - Spårväg 2     Göteborg Korsvägen   \n",
       "1      Länstrafik - Buss 18     Göteborg Korsvägen   \n",
       "2      Länstrafik - Buss 18     Göteborg Korsvägen   \n",
       "3    Länstrafik - Spårväg 5     Göteborg Korsvägen   \n",
       "4      Länstrafik - Buss X4     Göteborg Korsvägen   \n",
       "..                      ...                    ...   \n",
       "96   Länstrafik - Spårväg 8     Göteborg Korsvägen   \n",
       "97     Länstrafik - Buss 18     Göteborg Korsvägen   \n",
       "98     Länstrafik - Buss 61     Göteborg Korsvägen   \n",
       "99   Länstrafik - Spårväg 8  Göteborg Scandinavium   \n",
       "100    Länstrafik - Buss 63     Göteborg Korsvägen   \n",
       "\n",
       "                          direction        date      time  departure_datetime  \\\n",
       "0                Mölndals Innerstad  2025-01-21  21:36:00 2025-01-21 21:36:00   \n",
       "1           Kallebäck (Göteborg kn)  2025-01-21  21:37:00 2025-01-21 21:37:00   \n",
       "2     Körkarlens gata (Göteborg kn)  2025-01-21  21:37:00 2025-01-21 21:37:00   \n",
       "3          Göteborg Varmfrontsgatan  2025-01-21  21:37:00 2025-01-21 21:37:00   \n",
       "4    Mölnlycke station (Härryda kn)  2025-01-21  21:38:00 2025-01-21 21:38:00   \n",
       "..                              ...         ...       ...                 ...   \n",
       "96    Angered centrum (Göteborg kn)  2025-01-21  22:34:00 2025-01-21 22:34:00   \n",
       "97    Körkarlens gata (Göteborg kn)  2025-01-21  22:34:00 2025-01-21 22:34:00   \n",
       "98                   Göteborg Heden  2025-01-21  22:35:00 2025-01-21 22:35:00   \n",
       "99    Angered centrum (Göteborg kn)  2025-01-21  22:35:00 2025-01-21 22:35:00   \n",
       "100           Göteborg Linnéplatsen  2025-01-21  22:35:00 2025-01-21 22:35:00   \n",
       "\n",
       "        time_until_departure  \n",
       "0   -1 days +23:59:06.993045  \n",
       "1     0 days 00:00:06.993045  \n",
       "2     0 days 00:00:06.993045  \n",
       "3     0 days 00:00:06.993045  \n",
       "4     0 days 00:01:06.993045  \n",
       "..                       ...  \n",
       "96    0 days 00:57:06.993045  \n",
       "97    0 days 00:57:06.993045  \n",
       "98    0 days 00:58:06.993045  \n",
       "99    0 days 00:58:06.993045  \n",
       "100   0 days 00:58:06.993045  \n",
       "\n",
       "[101 rows x 7 columns]"
      ]
     },
     "execution_count": 104,
     "metadata": {},
     "output_type": "execute_result"
    }
   ],
   "source": [
    "from datetime import datetime\n",
    "\n",
    "df_timetable_cleaned = df_timetable[[\"name\", \"stop\", \"direction\", \"date\", \"time\"]]\n",
    "df_timetable_cleaned['departure_datetime'] = pd.to_datetime(df_timetable_cleaned['date'] + ' ' + df_timetable_cleaned['time'])\n",
    "current_time = datetime.now()\n",
    "df_timetable_cleaned['time_until_departure'] = df_timetable_cleaned['departure_datetime'] - current_time\n",
    "df_timetable_cleaned\n"
   ]
  }
 ],
 "metadata": {
  "kernelspec": {
   "display_name": ".venv",
   "language": "python",
   "name": "python3"
  },
  "language_info": {
   "codemirror_mode": {
    "name": "ipython",
    "version": 3
   },
   "file_extension": ".py",
   "mimetype": "text/x-python",
   "name": "python",
   "nbconvert_exporter": "python",
   "pygments_lexer": "ipython3",
   "version": "3.11.7"
  }
 },
 "nbformat": 4,
 "nbformat_minor": 2
}
