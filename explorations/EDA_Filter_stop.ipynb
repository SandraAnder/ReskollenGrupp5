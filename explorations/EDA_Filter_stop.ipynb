{
 "cells": [
  {
   "cell_type": "code",
   "execution_count": 55,
   "metadata": {},
   "outputs": [
    {
     "data": {
      "text/plain": [
       "dict_keys(['stopLocationOrCoordLocation', 'TechnicalMessages', 'serverVersion', 'dialectVersion', 'requestId'])"
      ]
     },
     "execution_count": 55,
     "metadata": {},
     "output_type": "execute_result"
    }
   ],
   "source": [
    "from dotenv import load_dotenv\n",
    "import os\n",
    "import requests\n",
    "\n",
    "load_dotenv()\n",
    "\n",
    "API_KEY = os.getenv(\"API_KEY\")\n",
    "\n",
    "# URLs to get diferent calls from API services\n",
    "url_trip = f\"https://api.resrobot.se/v2.1/trip?format=json&originId=740000002&destId=740000003&passlist=true&showPassingPoints=true&accessId={API_KEY}\"\n",
    "\n",
    "url_stopId = f\"https://api.resrobot.se/v2.1/departureBoard?id=740000002&format=json&accessId={API_KEY}\"\n",
    "\n",
    "url_stopName = f\"https://api.resrobot.se/v2.1/location.name?input=Göteborg&format=json&accessId={API_KEY}\"\n",
    "\n",
    "url_arrivals = f\"https://api.resrobot.se/v2.1/arrivalBoard?id=740000002&format=json&accessId={API_KEY}\"\n",
    "\n",
    "response = requests.get(url_stopName) # Chooses which url is shown\n",
    "result = response.json()\n",
    "result.keys()"
   ]
  },
  {
   "cell_type": "code",
   "execution_count": null,
   "metadata": {},
   "outputs": [],
   "source": [
    "# Shows the first key when url is 'url_trip'\n",
    "result[\"Trip\"][0][\"LegList\"]"
   ]
  },
  {
   "cell_type": "code",
   "execution_count": 58,
   "metadata": {},
   "outputs": [
    {
     "data": {
      "text/plain": [
       "'GÖTEBORG'"
      ]
     },
     "execution_count": 58,
     "metadata": {},
     "output_type": "execute_result"
    }
   ],
   "source": [
    "# Gives us the stoplocations name when url above is 'url_stopName'\n",
    "result[\"stopLocationOrCoordLocation\"][0][\"StopLocation\"][\"name\"]"
   ]
  },
  {
   "cell_type": "code",
   "execution_count": 59,
   "metadata": {},
   "outputs": [
    {
     "name": "stdout",
     "output_type": "stream",
     "text": [
      "[{'StopLocation': {'productAtStop': [{'icon': {'res': 'prod_gen'}, 'cls': '128'}], 'timezoneOffset': 60, 'id': 'A=1@O=Trätorget (Göteborg kn)@X=12053177@Y=57715439@U=1@L=740059660@B=1@p=1737347805@', 'extId': '740059660', 'name': 'Trätorget (Göteborg kn)', 'lon': 12.053177, 'lat': 57.715439, 'weight': 533, 'products': 128, 'minimumChangeDuration': 'PT0S'}}, {'CoordLocation': {'links': [{'link': [{'rel': 'refine', 'href': 'https://api.resrobot.se/v2.1/location.name?input=Tr%C3%A4torget%2C+Falk%C3%B6ping&refineId=A%3D2%40O%3DTr%C3%A4torget%2C+Falk%C3%B6ping%40X%3D13554412%40Y%3D58160352%40U%3D174%40b%3D980141995%40B%3D1%40p%3D1479298166%40&type=A'}]}], 'icon': {'res': 'loc_addr'}, 'id': 'A=2@O=Trätorget, Falköping@X=13554412@Y=58160352@U=174@b=980141995@B=1@p=1479298166@', 'name': 'Trätorget, Falköping', 'type': 'ADR', 'lon': 13.554412, 'lat': 58.160352, 'refinable': True}}, {'CoordLocation': {'links': [{'link': [{'rel': 'refine', 'href': 'https://api.resrobot.se/v2.1/location.name?input=Tr%C3%A4torget%2C+G%C3%B6teborg&refineId=A%3D2%40O%3DTr%C3%A4torget%2C+G%C3%B6teborg%40X%3D12052827%40Y%3D57714918%40U%3D174%40b%3D980141996%40B%3D1%40p%3D1479298166%40&type=A'}]}], 'icon': {'res': 'loc_addr'}, 'id': 'A=2@O=Trätorget, Göteborg@X=12052827@Y=57714918@U=174@b=980141996@B=1@p=1479298166@', 'name': 'Trätorget, Göteborg', 'type': 'ADR', 'lon': 12.052827, 'lat': 57.714918, 'refinable': True}}, {'StopLocation': {'productAtStop': [{'icon': {'res': 'prod_gen'}, 'cls': '128'}], 'timezoneOffset': 60, 'id': 'A=1@O=Linköping Trädgårdstorget@X=15624843@Y=58409802@U=1@L=740021842@B=1@p=1737347805@', 'extId': '740021842', 'name': 'Linköping Trädgårdstorget', 'lon': 15.624843, 'lat': 58.409802, 'weight': 533, 'products': 128, 'minimumChangeDuration': 'PT3M'}}, {'CoordLocation': {'links': [{'link': [{'rel': 'refine', 'href': 'https://api.resrobot.se/v2.1/location.name?input=Tr%C3%A4tov%C3%A4gen%2C+Haverdal&refineId=A%3D2%40O%3DTr%C3%A4tov%C3%A4gen%2C+Haverdal%40X%3D12692121%40Y%3D56719084%40U%3D174%40b%3D980141997%40B%3D1%40p%3D1479298166%40&type=A'}]}], 'icon': {'res': 'loc_addr'}, 'id': 'A=2@O=Trätovägen, Haverdal@X=12692121@Y=56719084@U=174@b=980141997@B=1@p=1479298166@', 'name': 'Trätovägen, Haverdal', 'type': 'ADR', 'lon': 12.692121, 'lat': 56.719084, 'refinable': True}}, {'StopLocation': {'productAtStop': [{'icon': {'res': 'prod_gen'}, 'cls': '128'}], 'timezoneOffset': 60, 'id': 'A=1@O=Trädgårdsberget (Göteborg kn)@X=12043613@Y=57804873@U=1@L=740075199@B=1@p=1737347805@', 'extId': '740075199', 'name': 'Trädgårdsberget (Göteborg kn)', 'lon': 12.043613, 'lat': 57.804873, 'weight': 533, 'products': 128, 'minimumChangeDuration': 'PT26M'}}, {'CoordLocation': {'links': [{'link': [{'rel': 'refine', 'href': 'https://api.resrobot.se/v2.1/location.name?input=Tr%C3%A4dg%C3%A5rdsgatan%2C+Sunne+t%C3%A4tort&refineId=A%3D2%40O%3DTr%C3%A4dg%C3%A5rdsgatan%2C+Sunne+t%C3%A4tort%40X%3D13137007%40Y%3D59840678%40U%3D174%40b%3D980141698%40B%3D1%40p%3D1479298166%40&type=A'}]}], 'icon': {'res': 'loc_addr'}, 'id': 'A=2@O=Trädgårdsgatan, Sunne tätort@X=13137007@Y=59840678@U=174@b=980141698@B=1@p=1479298166@', 'name': 'Trädgårdsgatan, Sunne tätort', 'type': 'ADR', 'lon': 13.137007, 'lat': 59.840678, 'refinable': True}}, {'CoordLocation': {'links': [{'link': [{'rel': 'refine', 'href': 'https://api.resrobot.se/v2.1/location.name?input=Tr%C3%A4dg%C3%A5rdstorget%2C+Link%C3%B6ping&refineId=A%3D2%40O%3DTr%C3%A4dg%C3%A5rdstorget%2C+Link%C3%B6ping%40X%3D15624115%40Y%3D58409515%40U%3D174%40b%3D980141779%40B%3D1%40p%3D1479298166%40&type=A'}]}], 'icon': {'res': 'loc_addr'}, 'id': 'A=2@O=Trädgårdstorget, Linköping@X=15624115@Y=58409515@U=174@b=980141779@B=1@p=1479298166@', 'name': 'Trädgårdstorget, Linköping', 'type': 'ADR', 'lon': 15.624115, 'lat': 58.409515, 'refinable': True}}, {'CoordLocation': {'links': [{'link': [{'rel': 'refine', 'href': 'https://api.resrobot.se/v2.1/location.name?input=Tr%C3%A4dg%C3%A5rdstorget%2C+%C3%96rebro&refineId=A%3D2%40O%3DTr%C3%A4dg%C3%A5rdstorget%2C+%C3%96rebro%40X%3D15212957%40Y%3D59273549%40U%3D174%40b%3D980141780%40B%3D1%40p%3D1479298166%40&type=A'}]}], 'icon': {'res': 'loc_addr'}, 'id': 'A=2@O=Trädgårdstorget, Örebro@X=15212957@Y=59273549@U=174@b=980141780@B=1@p=1479298166@', 'name': 'Trädgårdstorget, Örebro', 'type': 'ADR', 'lon': 15.212957, 'lat': 59.273549, 'refinable': True}}, {'StopLocation': {'productAtStop': [{'icon': {'res': 'prod_gen'}, 'cls': '128'}], 'timezoneOffset': 60, 'id': 'A=1@O=Helsingborg Vasatorp Trädgård@X=12734991@Y=56061541@U=1@L=740074591@B=1@p=1737347805@', 'extId': '740074591', 'name': 'Helsingborg Vasatorp Trädgård', 'lon': 12.734991, 'lat': 56.061541, 'weight': 533, 'products': 128, 'minimumChangeDuration': 'PT3M'}}]\n"
     ]
    }
   ],
   "source": [
    "# Function to extract the stopname\n",
    "def get_stop_name(location):\n",
    "    url_stopName = f\"https://api.resrobot.se/v2.1/location.name?input={location}&format=json&accessId={API_KEY}\"\n",
    "\n",
    "    result_name = requests.get(url_stopName)\n",
    "    return result_name.json().get(\"stopLocationOrCoordLocation\")\n",
    "\n",
    "stop_name = get_stop_name(\"Trätorget\")\n",
    "print(stop_name)"
   ]
  },
  {
   "cell_type": "code",
   "execution_count": 31,
   "metadata": {},
   "outputs": [
    {
     "data": {
      "text/plain": [
       "{'productAtStop': [{'icon': {'res': 'prod_gen'}, 'cls': '128'}],\n",
       " 'timezoneOffset': 60,\n",
       " 'id': 'A=1@O=Trätorget (Göteborg kn)@X=12053177@Y=57715439@U=1@L=740059660@B=1@p=1737347805@',\n",
       " 'extId': '740059660',\n",
       " 'name': 'Trätorget (Göteborg kn)',\n",
       " 'lon': 12.053177,\n",
       " 'lat': 57.715439,\n",
       " 'weight': 533,\n",
       " 'products': 128,\n",
       " 'minimumChangeDuration': 'PT0S'}"
      ]
     },
     "execution_count": 31,
     "metadata": {},
     "output_type": "execute_result"
    }
   ],
   "source": [
    "stop_name[0].get(\"StopLocation\")"
   ]
  },
  {
   "cell_type": "code",
   "execution_count": 32,
   "metadata": {},
   "outputs": [
    {
     "name": "stdout",
     "output_type": "stream",
     "text": [
      "740059660\n"
     ]
    }
   ],
   "source": [
    "# Gets stoplocation and if none, gets empty dict\n",
    "station_id = stop_name[0].get(\"StopLocation\", {}).get(\"extId\")\n",
    "print(station_id)"
   ]
  },
  {
   "cell_type": "code",
   "execution_count": 136,
   "metadata": {},
   "outputs": [],
   "source": [
    "def get_departures(location_ids, max_results=8):\n",
    "    url_departures = f\"https://api.resrobot.se/v2.1/departureBoard?id={location_ids}&format=json&maxJourneys={max_results}&accessId={API_KEY}\"\n",
    "\n",
    "    response = requests.get(url_departures)\n",
    "    data = response.json()\n",
    "    departures = data.get(\"Departure\", [])\n",
    "\n",
    "    return departures[:max_results]\n",
    "\n",
    "# get_departures(740059660)"
   ]
  },
  {
   "cell_type": "code",
   "execution_count": 137,
   "metadata": {},
   "outputs": [
    {
     "name": "stdout",
     "output_type": "stream",
     "text": [
      "Stationens namn: Göteborg Centralstation\n",
      "Stations id: 740000002\n",
      "Tid: 10:56:00, Destination: Höga hallar (Härryda kn)\n",
      "Tid: 10:56:00, Destination: Stenungsund station\n",
      "Tid: 10:56:00, Destination: Göteborg Östra sjukhuset\n",
      "Tid: 10:56:00, Destination: Särö centrum (Kungsbacka kn)\n",
      "Tid: 10:56:00, Destination: Kortedala Aprilgatan (Göteborg kn)\n",
      "Tid: 10:59:00, Destination: Kungälv resecentrum\n",
      "Tid: 10:59:00, Destination: Fyrktorget (Göteborg kn)\n",
      "Tid: 10:59:00, Destination: Stockholm Centralstation\n"
     ]
    }
   ],
   "source": [
    "import re\n",
    "\n",
    "def get_timetable_dep(station):\n",
    "    if station:\n",
    "        station_name = station[0][\"StopLocation\"][\"name\"]\n",
    "        station_id_raw = station[0][\"StopLocation\"][\"id\"]\n",
    "\n",
    "        match = re.search(r\"L=(\\d+)\", station_id_raw) # Looks for the key L that holds the station ID\n",
    "        if match:\n",
    "            station_id = match.group(1)\n",
    "        else:\n",
    "            print(\"Kunde inte extrahera stationens ID.\")\n",
    "            station_id = None\n",
    "        print(f\"Stationens namn: {station_name}\")\n",
    "        print(f\"Stations id: {station_id}\")\n",
    "\n",
    "        departures = get_departures(station_id, max_results=8) # Only gives the first 8 results, also here we decide number of results we want\n",
    "\n",
    "        if departures:\n",
    "            for departure in departures:\n",
    "                print(f\"Tid: {departure['time']}, Destination: {departure['direction']}\")\n",
    "        else:\n",
    "            print(\"Inga avgångar\")\n",
    "    else:\n",
    "        print(\"Stationen hittades inte\")\n",
    "\n",
    "get_timetable_dep(station=get_stop_name(\"Göteborg C\"))"
   ]
  },
  {
   "cell_type": "code",
   "execution_count": 46,
   "metadata": {},
   "outputs": [
    {
     "name": "stdout",
     "output_type": "stream",
     "text": [
      "Stationens namn: Trätorget (Göteborg kn)\n",
      "Stations id: 740059660\n",
      "Tid: 21:14:00, Destination: Hinnebäcksgatan (Göteborg kn)\n",
      "Tid: 21:23:00, Destination: Göteborg Östra sjukhuset\n",
      "Tid: 21:29:00, Destination: Hinnebäcksgatan (Göteborg kn)\n",
      "Tid: 21:38:00, Destination: Göteborg Östra sjukhuset\n",
      "Tid: 21:44:00, Destination: Hinnebäcksgatan (Göteborg kn)\n",
      "Tid: 21:53:00, Destination: Göteborg Östra sjukhuset\n",
      "Tid: 21:59:00, Destination: Hinnebäcksgatan (Göteborg kn)\n",
      "Tid: 22:08:00, Destination: Göteborg Östra sjukhuset\n"
     ]
    }
   ],
   "source": [
    "station = get_stop_name(input(\"Hållplats: \"))\n",
    "get_timetable_dep()"
   ]
  },
  {
   "cell_type": "code",
   "execution_count": 138,
   "metadata": {},
   "outputs": [],
   "source": [
    "def get_arrivials(location_ids, max_results=8):\n",
    "    url_arrivals = f\"https://api.resrobot.se/v2.1/arrivalBoard?id={location_ids}&format=json&maxJourneys={max_results}&accessId={API_KEY}\"\n",
    "    response = requests.get(url_arrivals)\n",
    "    \n",
    "    data_arrivals = response.json()\n",
    "    arrivals = data_arrivals.get(\"Arrival\", [])\n",
    "    return arrivals[:max_results] # Gets the first 8 results"
   ]
  },
  {
   "cell_type": "code",
   "execution_count": null,
   "metadata": {},
   "outputs": [
    {
     "name": "stdout",
     "output_type": "stream",
     "text": [
      "Stationens namn: Göteborg Centralstation\n",
      "Stations id: 740000002\n",
      "Ankomster till Göteborg Centralstation:\n",
      "Tid: 22:11:00, Avgång: Göteborg Eketrägatan, FordonsNr: 21\n",
      "Tid: 22:13:00, Avgång: Mölnlycke station (Härryda kn), FordonsNr: X4\n",
      "Tid: 22:13:00, Avgång: Partille centrum, FordonsNr: X1\n",
      "Tid: 22:14:00, Avgång: Kungälv resecentrum, FordonsNr: X4\n",
      "Tid: 22:14:00, Avgång: Mölnlycke station (Härryda kn), FordonsNr: X4\n",
      "Tid: 22:15:00, Avgång: Göteborg Heden, FordonsNr: 510\n",
      "Tid: 22:15:00, Avgång: Kungsbacka station, FordonsNr: 3086\n",
      "Tid: 22:16:00, Avgång: Kungälv resecentrum, FordonsNr: X4\n"
     ]
    }
   ],
   "source": [
    "\n",
    "def get_timetable_arr(station):\n",
    "    if station:\n",
    "        station_name = station[0][\"StopLocation\"][\"name\"]\n",
    "        station_id_raw = station[0][\"StopLocation\"][\"id\"]\n",
    "\n",
    "        match = re.search(r\"L=(\\d+)\", station_id_raw)\n",
    "        if match:\n",
    "            station_id = match.group(1)\n",
    "        else:\n",
    "            print(\"Kunde inte extrahera stationens ID.\")\n",
    "            station_id = None\n",
    "        print(f\"Stationens namn: {station_name}\")\n",
    "        print(f\"Stations id: {station_id}\")\n",
    "\n",
    "        arrivals = get_arrivials(station_id)\n",
    "        if arrivals:\n",
    "            print(f\"Ankomster till {station_name}:\")\n",
    "            for arrival in arrivals:\n",
    "                time = arrival.get('time', 'N/A')\n",
    "                origin = arrival.get('origin', 'N/A')\n",
    "                transport = arrival.get('ProductAtStop', {}).get('displayNumber', 'Okänt fordon')\n",
    "                print(f\"Tid: {time}, Avgång: {origin}, FordonsNr: {transport}\")\n",
    "        else:\n",
    "            print(\"Inga avgångar\")\n",
    "    else:\n",
    "        print(\"Stationen hittades inte\")\n",
    "\n",
    "get_timetable_arr(station = get_stop_name(\"Göteborg C\"))"
   ]
  },
  {
   "cell_type": "code",
   "execution_count": 128,
   "metadata": {},
   "outputs": [
    {
     "name": "stdout",
     "output_type": "stream",
     "text": [
      "Stationens namn: Göteborg Centralstation\n",
      "Stations id: 740000002\n",
      "Tid: 22:11:00, Destination: Merkuriusgatan (Göteborg kn)\n",
      "Tid: 22:13:00, Destination: Kungälv resecentrum\n",
      "Tid: 22:13:00, Destination: Hornkamsgatan (Göteborg kn)\n",
      "Tid: 22:14:00, Destination: Höga hallar (Härryda kn)\n",
      "Tid: 22:14:00, Destination: Kungälv resecentrum\n",
      "Tid: 22:15:00, Destination: Partille centrum\n",
      "Tid: 22:15:00, Destination: Kungsbacka station\n",
      "Tid: 22:16:00, Destination: Höga hallar (Härryda kn)\n"
     ]
    }
   ],
   "source": [
    "\n",
    "get_timetable_dep(station = get_stop_name(\"Göteborg C\"))"
   ]
  },
  {
   "cell_type": "code",
   "execution_count": 139,
   "metadata": {},
   "outputs": [
    {
     "name": "stdout",
     "output_type": "stream",
     "text": [
      "------------DEPARTURE--------------\n",
      "Stationens namn: Göteborg Centralstation\n",
      "Stations id: 740000002\n",
      "Tid: 10:59:00, Destination: Kungälv resecentrum, Linje: X4\n",
      "Tid: 10:59:00, Destination: Fyrktorget (Göteborg kn), Linje: 16\n",
      "Tid: 10:59:00, Destination: Stockholm Centralstation, Linje: 2032\n",
      "Tid: 10:59:00, Destination: Partille centrum, Linje: X1\n",
      "Tid: 10:59:00, Destination: Göteborg Varmfrontsgatan, Linje: 6\n",
      "Tid: 11:00:00, Destination: Kungälv resecentrum, Linje: X4\n",
      "Tid: 11:00:00, Destination: Bockkranen (Göteborg kn), Linje: 16\n",
      "Tid: 11:00:00, Destination: Gamlestads Torg Västra (Göteborg kn), Linje: 59\n",
      "------------ARRIVAL--------------\n",
      "Stationens namn: Göteborg Centralstation\n",
      "Stations id: 740000002\n",
      "Tid: 10:59:00, Origin: Höga hallar (Härryda kn), Linje: X4\n",
      "Tid: 10:59:00, Origin: Bockkranen (Göteborg kn), Linje: 16\n",
      "Tid: 10:59:00, Origin: Hornkamsgatan (Göteborg kn), Linje: X1\n",
      "Tid: 10:59:00, Origin: Kortedala Aprilgatan (Göteborg kn), Linje: 6\n",
      "Tid: 11:00:00, Origin: Höga hallar (Härryda kn), Linje: X4\n",
      "Tid: 11:00:00, Origin: Fyrktorget (Göteborg kn), Linje: 16\n",
      "Tid: 11:00:00, Origin: Öxnered station (Vänersborg kn), Linje: 3237\n",
      "Tid: 11:00:00, Origin: Landvetter Airport (Härryda kn), Linje: .\n"
     ]
    }
   ],
   "source": [
    "import re\n",
    "\n",
    "class get_stops():\n",
    "\n",
    "    station = get_stop_name(\"Trätorget\")\n",
    "\n",
    "    def get_departures(location_ids, max_results=8):\n",
    "        url_departures = f\"https://api.resrobot.se/v2.1/departureBoard?id={location_ids}&format=json&maxJourneys={max_results}&accessId={API_KEY}\"\n",
    "\n",
    "        response = requests.get(url_departures)\n",
    "        data = response.json()\n",
    "        departures = data.get(\"Departure\", [])\n",
    "\n",
    "        return departures[:max_results]\n",
    "\n",
    "    def get_timetable_dep(station):\n",
    "        if station:\n",
    "            station_name = station[0][\"StopLocation\"][\"name\"]\n",
    "            station_id_raw = station[0][\"StopLocation\"][\"id\"]\n",
    "\n",
    "            match = re.search(r\"L=(\\d+)\", station_id_raw)\n",
    "            if match:\n",
    "                station_id = match.group(1)\n",
    "            else:\n",
    "                print(\"Kunde inte extrahera stationens ID.\")\n",
    "                station_id = None\n",
    "            print(f\"Stationens namn: {station_name}\")\n",
    "            print(f\"Stations id: {station_id}\")\n",
    "\n",
    "            departures = get_departures(station_id, max_results=8)\n",
    "\n",
    "            if departures:\n",
    "                for departure in departures:\n",
    "                    transport = departure.get('ProductAtStop', {}).get('displayNumber', 'Okänt fordon')\n",
    "                    print(f\"Tid: {departure['time']}, Destination: {departure['direction']}, Linje: {transport}\")\n",
    "            else:\n",
    "                print(\"Inga avgångar\")\n",
    "        else:\n",
    "            print(\"Stationen hittades inte\")\n",
    "\n",
    "    print(\"------------DEPARTURE--------------\")\n",
    "\n",
    "    get_timetable_dep(station=get_stop_name(\"Göteborg C\"))\n",
    "\n",
    "    print(\"------------ARRIVAL--------------\")\n",
    "\n",
    "    def get_arrivials(location_ids, max_results=8):\n",
    "        url_arrivals = f\"https://api.resrobot.se/v2.1/arrivalBoard?id={location_ids}&format=json&maxJourneys={max_results}&accessId={API_KEY}\"\n",
    "        response = requests.get(url_arrivals)\n",
    "        \n",
    "        data_arrivals = response.json()\n",
    "        arrivals = data_arrivals.get(\"Arrival\", [])\n",
    "        return arrivals[:max_results]\n",
    "    \n",
    "    def get_timetable_arr(station):\n",
    "        if station:\n",
    "            station_name = station[0][\"StopLocation\"][\"name\"]\n",
    "            station_id_raw = station[0][\"StopLocation\"][\"id\"]\n",
    "\n",
    "            match = re.search(r\"L=(\\d+)\", station_id_raw)\n",
    "            if match:\n",
    "                station_id = match.group(1)\n",
    "            else:\n",
    "                print(\"Kunde inte extrahera stationens ID.\")\n",
    "                station_id = None\n",
    "            print(f\"Stationens namn: {station_name}\")\n",
    "            print(f\"Stations id: {station_id}\")\n",
    "\n",
    "            arrivals = get_arrivials(station_id, max_results=8)\n",
    "\n",
    "            if arrivals:\n",
    "                for arrival in arrivals:\n",
    "                    transport = arrival.get('ProductAtStop', {}).get('displayNumber', 'Okänt fordon')\n",
    "                    print(f\"Tid: {arrival['time']}, Origin: {arrival['origin']}, Linje: {transport}\")\n",
    "            else:\n",
    "                print(\"Inga avgångar\")\n",
    "        else:\n",
    "            print(\"Stationen hittades inte\")\n",
    "\n",
    "    get_timetable_arr(station = get_stop_name(\"Göteborg C\"))\n",
    "    "
   ]
  },
  {
   "cell_type": "code",
   "execution_count": null,
   "metadata": {},
   "outputs": [],
   "source": []
  }
 ],
 "metadata": {
  "kernelspec": {
   "display_name": ".venv",
   "language": "python",
   "name": "python3"
  },
  "language_info": {
   "codemirror_mode": {
    "name": "ipython",
    "version": 3
   },
   "file_extension": ".py",
   "mimetype": "text/x-python",
   "name": "python",
   "nbconvert_exporter": "python",
   "pygments_lexer": "ipython3",
   "version": "3.11.7"
  }
 },
 "nbformat": 4,
 "nbformat_minor": 2
}
